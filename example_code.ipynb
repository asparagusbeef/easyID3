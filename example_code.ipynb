{
 "cells": [
  {
   "cell_type": "code",
   "execution_count": 1,
   "id": "4f580148",
   "metadata": {},
   "outputs": [],
   "source": [
    "import pandas as pd\n",
    "import matplotlib.pyplot as plt\n",
    "import seaborn as sns\n",
    "from sklearn.model_selection import train_test_split\n",
    "file_path = \"../easyID3/Price Discrimination - Wobi.xlsx\"\n",
    "df = pd.read_excel(file_path)"
   ]
  },
  {
   "cell_type": "code",
   "execution_count": 2,
   "id": "8d58ff58",
   "metadata": {},
   "outputs": [
    {
     "data": {
      "text/html": [
       "<div>\n",
       "<style scoped>\n",
       "    .dataframe tbody tr th:only-of-type {\n",
       "        vertical-align: middle;\n",
       "    }\n",
       "\n",
       "    .dataframe tbody tr th {\n",
       "        vertical-align: top;\n",
       "    }\n",
       "\n",
       "    .dataframe thead th {\n",
       "        text-align: right;\n",
       "    }\n",
       "</style>\n",
       "<table border=\"1\" class=\"dataframe\">\n",
       "  <thead>\n",
       "    <tr style=\"text-align: right;\">\n",
       "      <th></th>\n",
       "      <th>Car</th>\n",
       "      <th>Car Type</th>\n",
       "      <th>Model</th>\n",
       "      <th>Mobileye</th>\n",
       "      <th>#Drivers</th>\n",
       "      <th>Driver Gender</th>\n",
       "      <th>Claims in past 3 years</th>\n",
       "      <th>Bought</th>\n",
       "    </tr>\n",
       "  </thead>\n",
       "  <tbody>\n",
       "    <tr>\n",
       "      <th>0</th>\n",
       "      <td>C01</td>\n",
       "      <td>Family</td>\n",
       "      <td>New</td>\n",
       "      <td>Yes</td>\n",
       "      <td>1</td>\n",
       "      <td>Male</td>\n",
       "      <td>No</td>\n",
       "      <td>Yes</td>\n",
       "    </tr>\n",
       "    <tr>\n",
       "      <th>1</th>\n",
       "      <td>C02</td>\n",
       "      <td>Family</td>\n",
       "      <td>New</td>\n",
       "      <td>Yes</td>\n",
       "      <td>1</td>\n",
       "      <td>Male</td>\n",
       "      <td>Yes</td>\n",
       "      <td>Yes</td>\n",
       "    </tr>\n",
       "    <tr>\n",
       "      <th>2</th>\n",
       "      <td>C03</td>\n",
       "      <td>Family</td>\n",
       "      <td>New</td>\n",
       "      <td>Yes</td>\n",
       "      <td>2</td>\n",
       "      <td>Male</td>\n",
       "      <td>No</td>\n",
       "      <td>Yes</td>\n",
       "    </tr>\n",
       "    <tr>\n",
       "      <th>3</th>\n",
       "      <td>C04</td>\n",
       "      <td>Family</td>\n",
       "      <td>New</td>\n",
       "      <td>Yes</td>\n",
       "      <td>2</td>\n",
       "      <td>Male</td>\n",
       "      <td>No</td>\n",
       "      <td>Yes</td>\n",
       "    </tr>\n",
       "    <tr>\n",
       "      <th>4</th>\n",
       "      <td>C05</td>\n",
       "      <td>Family</td>\n",
       "      <td>2015-2016</td>\n",
       "      <td>Yes</td>\n",
       "      <td>Unlimited</td>\n",
       "      <td>Male</td>\n",
       "      <td>Yes</td>\n",
       "      <td>Yes</td>\n",
       "    </tr>\n",
       "  </tbody>\n",
       "</table>\n",
       "</div>"
      ],
      "text/plain": [
       "   Car Car Type      Model Mobileye   #Drivers Driver Gender  \\\n",
       "0  C01   Family        New      Yes          1          Male   \n",
       "1  C02   Family        New      Yes          1          Male   \n",
       "2  C03   Family        New      Yes          2          Male   \n",
       "3  C04   Family        New      Yes          2          Male   \n",
       "4  C05   Family  2015-2016      Yes  Unlimited          Male   \n",
       "\n",
       "  Claims in past 3 years Bought  \n",
       "0                     No    Yes  \n",
       "1                    Yes    Yes  \n",
       "2                     No    Yes  \n",
       "3                     No    Yes  \n",
       "4                    Yes    Yes  "
      ]
     },
     "execution_count": 2,
     "metadata": {},
     "output_type": "execute_result"
    }
   ],
   "source": [
    "df.head()"
   ]
  },
  {
   "cell_type": "markdown",
   "id": "95a591cc",
   "metadata": {},
   "source": [
    "### Exploratory Analysis"
   ]
  },
  {
   "cell_type": "code",
   "execution_count": 3,
   "id": "70e2fb8e",
   "metadata": {
    "scrolled": false
   },
   "outputs": [
    {
     "name": "stdout",
     "output_type": "stream",
     "text": [
      "Missing Values:\n",
      "#############\n",
      "\n",
      "Car                       0\n",
      "Car Type                  0\n",
      "Model                     0\n",
      "Mobileye                  0\n",
      "#Drivers                  0\n",
      "Driver Gender             0\n",
      "Claims in past 3 years    0\n",
      "Bought                    0\n",
      "dtype: int64\n",
      "\n",
      "Unique Values:\n",
      "#############\n",
      "\n",
      "Car                       100\n",
      "Car Type                    4\n",
      "Model                       6\n",
      "Mobileye                    2\n",
      "#Drivers                    3\n",
      "Driver Gender               2\n",
      "Claims in past 3 years      2\n",
      "Bought                      2\n",
      "dtype: int64\n",
      "\n",
      "Data Types:\n",
      "#############\n",
      "\n",
      "Car                       object\n",
      "Car Type                  object\n",
      "Model                     object\n",
      "Mobileye                  object\n",
      "#Drivers                  object\n",
      "Driver Gender             object\n",
      "Claims in past 3 years    object\n",
      "Bought                    object\n",
      "dtype: object\n",
      "\n",
      "Column Names:\n",
      "#############\n",
      "\n",
      "Index(['Car', 'Car Type', 'Model', 'Mobileye', '#Drivers', 'Driver Gender',\n",
      "       'Claims in past 3 years', 'Bought'],\n",
      "      dtype='object')\n",
      "\n"
     ]
    }
   ],
   "source": [
    "missing_values = df.isnull().sum()\n",
    "unique_values = df.nunique()\n",
    "data_types = df.dtypes\n",
    "columns = df.columns\n",
    "print(f'Missing Values:\\n#############\\n\\n{missing_values}\\n')\n",
    "print(f'Unique Values:\\n#############\\n\\n{unique_values}\\n')\n",
    "print(f'Data Types:\\n#############\\n\\n{data_types}\\n')\n",
    "print(f'Column Names:\\n#############\\n\\n{columns}\\n')"
   ]
  },
  {
   "cell_type": "markdown",
   "id": "248abcc3",
   "metadata": {},
   "source": [
    "#### Some visualizations"
   ]
  },
  {
   "cell_type": "code",
   "execution_count": 4,
   "id": "ee8bfa1e",
   "metadata": {
    "scrolled": false
   },
   "outputs": [
    {
     "data": {
      "image/png": "[encoded data removed]",
      "text/plain": [
       "<Figure size 1000x700 with 6 Axes>"
      ]
     },
     "metadata": {},
     "output_type": "display_data"
    }
   ],
   "source": [
    "categorical_cols = ['Car Type', 'Model', 'Mobileye', 'Driver Gender', 'Claims in past 3 years', 'Bought']\n",
    "binary_cols = ['Mobileye', 'Driver Gender', 'Claims in past 3 years', 'Bought']\n",
    "\n",
    "fig, ax = plt.subplots(2, 3, figsize=(10, 7))\n",
    "\n",
    "ax = ax.flatten()\n",
    "\n",
    "for i, col in enumerate(categorical_cols):\n",
    "    if col in binary_cols:\n",
    "        color_palette = \"Set2\"\n",
    "    else:\n",
    "        color_palette = \"pastel\"\n",
    "    sns.countplot(y=df[col], ax=ax[i], palette=color_palette)\n",
    "    ax[i].set_title(f'Distribution of {col}', fontsize=14)\n",
    "    ax[i].set_xlabel('Count', fontsize=12)\n",
    "    ax[i].set_ylabel('')\n",
    "\n",
    "plt.tight_layout()\n",
    "plt.show()\n",
    "\n"
   ]
  },
  {
   "cell_type": "markdown",
   "id": "0d3b32d6",
   "metadata": {},
   "source": [
    "### ID3 Decision Tree"
   ]
  },
  {
   "cell_type": "code",
   "execution_count": 5,
   "id": "fecc91bb",
   "metadata": {
    "scrolled": false
   },
   "outputs": [
    {
     "name": "stdout",
     "output_type": "stream",
     "text": [
      "Requirement already satisfied: easyID3 in c:\\users\\jonat\\anaconda3\\envs\\ics_gpt_env\\lib\\site-packages (0.1.2)\n",
      "Requirement already satisfied: numpy in c:\\users\\jonat\\anaconda3\\envs\\ics_gpt_env\\lib\\site-packages (from easyID3) (1.25.0)\n",
      "Requirement already satisfied: pandas in c:\\users\\jonat\\anaconda3\\envs\\ics_gpt_env\\lib\\site-packages (from easyID3) (1.5.3)\n",
      "Requirement already satisfied: python-dateutil>=2.8.1 in c:\\users\\jonat\\anaconda3\\envs\\ics_gpt_env\\lib\\site-packages (from pandas->easyID3) (2.8.2)\n",
      "Requirement already satisfied: pytz>=2020.1 in c:\\users\\jonat\\anaconda3\\envs\\ics_gpt_env\\lib\\site-packages (from pandas->easyID3) (2022.7)\n",
      "Requirement already satisfied: six>=1.5 in c:\\users\\jonat\\anaconda3\\envs\\ics_gpt_env\\lib\\site-packages (from python-dateutil>=2.8.1->pandas->easyID3) (1.16.0)\n"
     ]
    }
   ],
   "source": [
    "!pip install easyID3"
   ]
  },
  {
   "cell_type": "code",
   "execution_count": 10,
   "id": "7a196c5b",
   "metadata": {},
   "outputs": [],
   "source": [
    "from easyID3 import ID3DecisionTreeClassifier"
   ]
  },
  {
   "cell_type": "code",
   "execution_count": null,
   "id": "b67335ec",
   "metadata": {},
   "outputs": [],
   "source": [
    "y = df['Bought']\n",
    "X = df.drop('Bought', axis=1)\n",
    "\n",
    "# Split the data into train and test sets\n",
    "X_train, X_test, y_train, y_test = train_test_split(X, y, test_size=0.2, random_state=42)\n",
    "\n",
    "X_train.shape, X_test.shape, y_train.shape, y_test.shape"
   ]
  },
  {
   "cell_type": "code",
   "execution_count": null,
   "id": "669fd8de",
   "metadata": {},
   "outputs": [],
   "source": [
    "tree = ID3DecisionTree()\n",
    "tree.fit(X_train, Y_train)\n",
    "tree.print_tree()"
   ]
  },
  {
   "cell_type": "code",
   "execution_count": null,
   "id": "d048cd40",
   "metadata": {},
   "outputs": [],
   "source": []
  }
 ],
 "metadata": {
  "kernelspec": {
   "display_name": "Python 3 (ipykernel)",
   "language": "python",
   "name": "python3"
  },
  "language_info": {
   "codemirror_mode": {
    "name": "ipython",
    "version": 3
   },
   "file_extension": ".py",
   "mimetype": "text/x-python",
   "name": "python",
   "nbconvert_exporter": "python",
   "pygments_lexer": "ipython3",
   "version": "3.11.4"
  }
 },
 "nbformat": 4,
 "nbformat_minor": 5
}
